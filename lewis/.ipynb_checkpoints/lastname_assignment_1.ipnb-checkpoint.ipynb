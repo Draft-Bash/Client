{
 "cells": [
  {
   "cell_type": "code",
   "execution_count": 1,
   "id": "e516f406",
   "metadata": {},
   "outputs": [],
   "source": [
    "import sqlite3"
   ]
  },
  {
   "cell_type": "markdown",
   "id": "793b7263",
   "metadata": {},
   "source": [
    "# Activity 1.1 Create a database called student_information.db"
   ]
  },
  {
   "cell_type": "code",
   "execution_count": 2,
   "id": "ee27ba3d",
   "metadata": {},
   "outputs": [],
   "source": [
    "con = sqlite3.connect('student_information.db')\n",
    "cur= con.cursor()"
   ]
  },
  {
   "cell_type": "markdown",
   "id": "ef5f3dca",
   "metadata": {},
   "source": [
    "# Activity 1.2 Create two tables called Students and results in the student_information database"
   ]
  },
  {
   "cell_type": "code",
   "execution_count": 8,
   "id": "5256f160",
   "metadata": {},
   "outputs": [
    {
     "ename": "OperationalError",
     "evalue": "table students already exists",
     "output_type": "error",
     "traceback": [
      "\u001b[1;31m---------------------------------------------------------------------------\u001b[0m",
      "\u001b[1;31mOperationalError\u001b[0m                          Traceback (most recent call last)",
      "Cell \u001b[1;32mIn[8], line 9\u001b[0m\n\u001b[0;32m      1\u001b[0m first_command \u001b[38;5;241m=\u001b[39m \u001b[38;5;124m\"\"\"\u001b[39m\u001b[38;5;124mCREATE TABLE students(\u001b[39m\n\u001b[0;32m      2\u001b[0m \u001b[38;5;124m                        StdID INT(4) PRIMARY KEY, \u001b[39m\n\u001b[0;32m      3\u001b[0m \u001b[38;5;124m                        StdName VARCHAR(30) NOT NULL,\u001b[39m\n\u001b[0;32m      4\u001b[0m \u001b[38;5;124m                        Sex VARCHAR(1),\u001b[39m\n\u001b[0;32m      5\u001b[0m \u001b[38;5;124m                        Major VARCHAR(30), \u001b[39m\n\u001b[0;32m      6\u001b[0m \u001b[38;5;124m                        DOB DATE)\u001b[39m\u001b[38;5;124m\"\"\"\u001b[39m\n\u001b[0;32m      7\u001b[0m second_command \u001b[38;5;241m=\u001b[39m \u001b[38;5;124m\"\"\"\u001b[39m\u001b[38;5;124mCREATE TABLE results(StdID INT(4) PRIMARY KEY, \u001b[39m\n\u001b[0;32m      8\u001b[0m \u001b[38;5;124m                    Credit_hours_completed INT, GPA DECIMAL)\u001b[39m\u001b[38;5;124m\"\"\"\u001b[39m\n\u001b[1;32m----> 9\u001b[0m cur\u001b[38;5;241m.\u001b[39mexecute(first_command)\n\u001b[0;32m     10\u001b[0m cur\u001b[38;5;241m.\u001b[39mexecute(second_command)\n\u001b[0;32m     12\u001b[0m \u001b[38;5;66;03m# Insert the data\u001b[39;00m\n",
      "\u001b[1;31mOperationalError\u001b[0m: table students already exists"
     ]
    }
   ],
   "source": [
    "first_command = \"\"\"CREATE TABLE students(\n",
    "                        StdID INT(4) PRIMARY KEY, \n",
    "                        StdName VARCHAR(30) NOT NULL,\n",
    "                        Sex VARCHAR(1),\n",
    "                        Major VARCHAR(30), \n",
    "                        DOB DATE)\"\"\"\n",
    "second_command = \"\"\"CREATE TABLE results(StdID INT(4) PRIMARY KEY, \n",
    "                    Credit_hours_completed INT, GPA DECIMAL)\"\"\"\n",
    "cur.execute(first_command)\n",
    "cur.execute(second_command)"
   ]
  },
  {
   "cell_type": "code",
   "execution_count": 9,
   "id": "71fbcd5d",
   "metadata": {},
   "outputs": [
    {
     "ename": "IntegrityError",
     "evalue": "UNIQUE constraint failed: students.StdID",
     "output_type": "error",
     "traceback": [
      "\u001b[1;31m---------------------------------------------------------------------------\u001b[0m",
      "\u001b[1;31mIntegrityError\u001b[0m                            Traceback (most recent call last)",
      "Cell \u001b[1;32mIn[9], line 2\u001b[0m\n\u001b[0;32m      1\u001b[0m \u001b[38;5;66;03m# Insert the data\u001b[39;00m\n\u001b[1;32m----> 2\u001b[0m cur\u001b[38;5;241m.\u001b[39mexecute(\u001b[38;5;124m\"\"\"\u001b[39m\u001b[38;5;124mINSERT INTO students VALUES \u001b[39m\n\u001b[0;32m      3\u001b[0m \u001b[38;5;124m                (1, \u001b[39m\u001b[38;5;124m'\u001b[39m\u001b[38;5;124mJohn Smith\u001b[39m\u001b[38;5;124m'\u001b[39m\u001b[38;5;124m, \u001b[39m\u001b[38;5;124m'\u001b[39m\u001b[38;5;124mMALE\u001b[39m\u001b[38;5;124m'\u001b[39m\u001b[38;5;124m ,\u001b[39m\u001b[38;5;124m'\u001b[39m\u001b[38;5;124mDataScience\u001b[39m\u001b[38;5;124m'\u001b[39m\u001b[38;5;124m, \u001b[39m\u001b[38;5;124m'\u001b[39m\u001b[38;5;124m10/11/1996\u001b[39m\u001b[38;5;124m'\u001b[39m\u001b[38;5;124m),\u001b[39m\n\u001b[0;32m      4\u001b[0m \u001b[38;5;124m                (2, \u001b[39m\u001b[38;5;124m'\u001b[39m\u001b[38;5;124mMary Johnson\u001b[39m\u001b[38;5;124m'\u001b[39m\u001b[38;5;124m, \u001b[39m\u001b[38;5;124m'\u001b[39m\u001b[38;5;124mFEMALE\u001b[39m\u001b[38;5;124m'\u001b[39m\u001b[38;5;124m ,\u001b[39m\u001b[38;5;124m'\u001b[39m\u001b[38;5;124mbiology\u001b[39m\u001b[38;5;124m'\u001b[39m\u001b[38;5;124m, \u001b[39m\u001b[38;5;124m'\u001b[39m\u001b[38;5;124m1/2/2000\u001b[39m\u001b[38;5;124m'\u001b[39m\u001b[38;5;124m),\u001b[39m\n\u001b[0;32m      5\u001b[0m \u001b[38;5;124m                (3, \u001b[39m\u001b[38;5;124m'\u001b[39m\u001b[38;5;124mAlice Davis\u001b[39m\u001b[38;5;124m'\u001b[39m\u001b[38;5;124m, \u001b[39m\u001b[38;5;124m'\u001b[39m\u001b[38;5;124mFEMALE\u001b[39m\u001b[38;5;124m'\u001b[39m\u001b[38;5;124m ,\u001b[39m\u001b[38;5;124m'\u001b[39m\u001b[38;5;124mbiology\u001b[39m\u001b[38;5;124m'\u001b[39m\u001b[38;5;124m, \u001b[39m\u001b[38;5;124m'\u001b[39m\u001b[38;5;124m3/4/2001\u001b[39m\u001b[38;5;124m'\u001b[39m\u001b[38;5;124m),\u001b[39m\n\u001b[0;32m      6\u001b[0m \u001b[38;5;124m                (4, \u001b[39m\u001b[38;5;124m'\u001b[39m\u001b[38;5;124mRobert Rob\u001b[39m\u001b[38;5;124m'\u001b[39m\u001b[38;5;124m, \u001b[39m\u001b[38;5;124m'\u001b[39m\u001b[38;5;124mMALE\u001b[39m\u001b[38;5;124m'\u001b[39m\u001b[38;5;124m ,\u001b[39m\u001b[38;5;124m'\u001b[39m\u001b[38;5;124mphysics\u001b[39m\u001b[38;5;124m'\u001b[39m\u001b[38;5;124m, \u001b[39m\u001b[38;5;124m'\u001b[39m\u001b[38;5;124m1/5/1999\u001b[39m\u001b[38;5;124m'\u001b[39m\u001b[38;5;124m),\u001b[39m\n\u001b[0;32m      7\u001b[0m \u001b[38;5;124m                (5, \u001b[39m\u001b[38;5;124m'\u001b[39m\u001b[38;5;124mVictoria Roberts\u001b[39m\u001b[38;5;124m'\u001b[39m\u001b[38;5;124m, \u001b[39m\u001b[38;5;124m'\u001b[39m\u001b[38;5;124mFEMALE\u001b[39m\u001b[38;5;124m'\u001b[39m\u001b[38;5;124m ,\u001b[39m\u001b[38;5;124m'\u001b[39m\u001b[38;5;124mcomputer science\u001b[39m\u001b[38;5;124m'\u001b[39m\u001b[38;5;124m, \u001b[39m\u001b[38;5;124m'\u001b[39m\u001b[38;5;124m2/10/1998\u001b[39m\u001b[38;5;124m'\u001b[39m\u001b[38;5;124m),\u001b[39m\n\u001b[0;32m      8\u001b[0m \u001b[38;5;124m                (6, \u001b[39m\u001b[38;5;124m'\u001b[39m\u001b[38;5;124mBob Williams\u001b[39m\u001b[38;5;124m'\u001b[39m\u001b[38;5;124m, \u001b[39m\u001b[38;5;124m'\u001b[39m\u001b[38;5;124mMALE\u001b[39m\u001b[38;5;124m'\u001b[39m\u001b[38;5;124m ,\u001b[39m\u001b[38;5;124m'\u001b[39m\u001b[38;5;124mphysics\u001b[39m\u001b[38;5;124m'\u001b[39m\u001b[38;5;124m, \u001b[39m\u001b[38;5;124m'\u001b[39m\u001b[38;5;124m2/11/1999\u001b[39m\u001b[38;5;124m'\u001b[39m\u001b[38;5;124m),\u001b[39m\n\u001b[0;32m      9\u001b[0m \u001b[38;5;124m                (7, \u001b[39m\u001b[38;5;124m'\u001b[39m\u001b[38;5;124mGeorge Brown\u001b[39m\u001b[38;5;124m'\u001b[39m\u001b[38;5;124m, \u001b[39m\u001b[38;5;124m'\u001b[39m\u001b[38;5;124mMALE\u001b[39m\u001b[38;5;124m'\u001b[39m\u001b[38;5;124m ,\u001b[39m\u001b[38;5;124m'\u001b[39m\u001b[38;5;124mcomputer science\u001b[39m\u001b[38;5;124m'\u001b[39m\u001b[38;5;124m, \u001b[39m\u001b[38;5;124m'\u001b[39m\u001b[38;5;124m3/16/2000\u001b[39m\u001b[38;5;124m'\u001b[39m\u001b[38;5;124m),\u001b[39m\n\u001b[0;32m     10\u001b[0m \u001b[38;5;124m                (8, \u001b[39m\u001b[38;5;124m'\u001b[39m\u001b[38;5;124mJennifer Wilson\u001b[39m\u001b[38;5;124m'\u001b[39m\u001b[38;5;124m, \u001b[39m\u001b[38;5;124m'\u001b[39m\u001b[38;5;124mFEMALE\u001b[39m\u001b[38;5;124m'\u001b[39m\u001b[38;5;124m ,\u001b[39m\u001b[38;5;124m'\u001b[39m\u001b[38;5;124mbiology\u001b[39m\u001b[38;5;124m'\u001b[39m\u001b[38;5;124m, \u001b[39m\u001b[38;5;124m'\u001b[39m\u001b[38;5;124m4/15/2000\u001b[39m\u001b[38;5;124m'\u001b[39m\u001b[38;5;124m),\u001b[39m\n\u001b[0;32m     11\u001b[0m \u001b[38;5;124m                (9, \u001b[39m\u001b[38;5;124m'\u001b[39m\u001b[38;5;124mPatrick Jones\u001b[39m\u001b[38;5;124m'\u001b[39m\u001b[38;5;124m, \u001b[39m\u001b[38;5;124m'\u001b[39m\u001b[38;5;124mMALE\u001b[39m\u001b[38;5;124m'\u001b[39m\u001b[38;5;124m ,\u001b[39m\u001b[38;5;124m'\u001b[39m\u001b[38;5;124mcomputer science\u001b[39m\u001b[38;5;124m'\u001b[39m\u001b[38;5;124m, \u001b[39m\u001b[38;5;124m'\u001b[39m\u001b[38;5;124m10/11/2000\u001b[39m\u001b[38;5;124m'\u001b[39m\u001b[38;5;124m),\u001b[39m\n\u001b[0;32m     12\u001b[0m \u001b[38;5;124m                (10, \u001b[39m\u001b[38;5;124m'\u001b[39m\u001b[38;5;124mMichael Miller\u001b[39m\u001b[38;5;124m'\u001b[39m\u001b[38;5;124m, \u001b[39m\u001b[38;5;124m'\u001b[39m\u001b[38;5;124mMALE\u001b[39m\u001b[38;5;124m'\u001b[39m\u001b[38;5;124m ,\u001b[39m\u001b[38;5;124m'\u001b[39m\u001b[38;5;124mphysics\u001b[39m\u001b[38;5;124m'\u001b[39m\u001b[38;5;124m, \u001b[39m\u001b[38;5;124m'\u001b[39m\u001b[38;5;124m9/8/2000\u001b[39m\u001b[38;5;124m'\u001b[39m\u001b[38;5;124m),\u001b[39m\n\u001b[0;32m     13\u001b[0m \u001b[38;5;124m                (11, \u001b[39m\u001b[38;5;124m'\u001b[39m\u001b[38;5;124mChristina Moore\u001b[39m\u001b[38;5;124m'\u001b[39m\u001b[38;5;124m, \u001b[39m\u001b[38;5;124m'\u001b[39m\u001b[38;5;124mFEMALE\u001b[39m\u001b[38;5;124m'\u001b[39m\u001b[38;5;124m ,\u001b[39m\u001b[38;5;124m'\u001b[39m\u001b[38;5;124mbiology\u001b[39m\u001b[38;5;124m'\u001b[39m\u001b[38;5;124m, \u001b[39m\u001b[38;5;124m'\u001b[39m\u001b[38;5;124m10/2/1999\u001b[39m\u001b[38;5;124m'\u001b[39m\u001b[38;5;124m),\u001b[39m\n\u001b[0;32m     14\u001b[0m \u001b[38;5;124m                (12, \u001b[39m\u001b[38;5;124m'\u001b[39m\u001b[38;5;124mTom Jackson\u001b[39m\u001b[38;5;124m'\u001b[39m\u001b[38;5;124m, \u001b[39m\u001b[38;5;124m'\u001b[39m\u001b[38;5;124mMALE\u001b[39m\u001b[38;5;124m'\u001b[39m\u001b[38;5;124m ,\u001b[39m\u001b[38;5;124m'\u001b[39m\u001b[38;5;124mphysics\u001b[39m\u001b[38;5;124m'\u001b[39m\u001b[38;5;124m, \u001b[39m\u001b[38;5;124m'\u001b[39m\u001b[38;5;124m11/2/1999\u001b[39m\u001b[38;5;124m'\u001b[39m\u001b[38;5;124m)\u001b[39m\n\u001b[0;32m     15\u001b[0m \u001b[38;5;124m                \u001b[39m\u001b[38;5;124m\"\"\"\u001b[39m)\n\u001b[0;32m     17\u001b[0m cur\u001b[38;5;241m.\u001b[39mexecute(\u001b[38;5;124m\"\"\"\u001b[39m\u001b[38;5;124mINSERT INTO results VALUES \u001b[39m\n\u001b[0;32m     18\u001b[0m \u001b[38;5;124m            (1, 25, 3.5)\u001b[39m\n\u001b[0;32m     19\u001b[0m \u001b[38;5;124m            (2, 68, 3.2),\u001b[39m\n\u001b[1;32m   (...)\u001b[0m\n\u001b[0;32m     22\u001b[0m \u001b[38;5;124m            (8, 16, 3.1), (9, 58, 1.4), (10, 80, 4),\u001b[39m\n\u001b[0;32m     23\u001b[0m \u001b[38;5;124m            (11, 44, 3.6), (12, 102, 3.5)\u001b[39m\u001b[38;5;124m\"\"\"\u001b[39m)\n",
      "\u001b[1;31mIntegrityError\u001b[0m: UNIQUE constraint failed: students.StdID"
     ]
    }
   ],
   "source": [
    "# Insert the data\n",
    "cur.execute(\"\"\"INSERT INTO students VALUES \n",
    "                (1, 'John Smith', 'MALE' ,'DataScience', '10/11/1996'),\n",
    "                (2, 'Mary Johnson', 'FEMALE' ,'biology', '1/2/2000'),\n",
    "                (3, 'Alice Davis', 'FEMALE' ,'biology', '3/4/2001'),\n",
    "                (4, 'Robert Rob', 'MALE' ,'physics', '1/5/1999'),\n",
    "                (5, 'Victoria Roberts', 'FEMALE' ,'computer science', '2/10/1998'),\n",
    "                (6, 'Bob Williams', 'MALE' ,'physics', '2/11/1999'),\n",
    "                (7, 'George Brown', 'MALE' ,'computer science', '3/16/2000'),\n",
    "                (8, 'Jennifer Wilson', 'FEMALE' ,'biology', '4/15/2000'),\n",
    "                (9, 'Patrick Jones', 'MALE' ,'computer science', '10/11/2000'),\n",
    "                (10, 'Michael Miller', 'MALE' ,'physics', '9/8/2000'),\n",
    "                (11, 'Christina Moore', 'FEMALE' ,'biology', '10/2/1999'),\n",
    "                (12, 'Tom Jackson', 'MALE' ,'physics', '11/2/1999')\n",
    "                \"\"\")\n",
    "\n",
    "cur.execute(\"\"\"INSERT INTO results VALUES \n",
    "            (1, 25, 3.5)\n",
    "            (2, 68, 3.2),\n",
    "            (3, 55, 3.3), (4, 22, 3.9), (5, 90, 2.5), \n",
    "            (6, 110, 3.8), (7, 84, 3.9),\n",
    "            (8, 16, 3.1), (9, 58, 1.4), (10, 80, 4),\n",
    "            (11, 44, 3.6), (12, 102, 3.5)\"\"\")"
   ]
  },
  {
   "cell_type": "markdown",
   "id": "6155720f",
   "metadata": {},
   "source": [
    "# Activity 2.1 Display all the records from the Students table"
   ]
  },
  {
   "cell_type": "code",
   "execution_count": null,
   "id": "8fc151f7",
   "metadata": {},
   "outputs": [],
   "source": [
    "cur.execute(\"SELECT * FROM Students\")\n",
    "ANS= cur.fetchall()\n",
    "print(ANS)"
   ]
  },
  {
   "cell_type": "markdown",
   "id": "61c4888a",
   "metadata": {},
   "source": [
    "# Activity 2.2 Display all the records from results table"
   ]
  },
  {
   "cell_type": "code",
   "execution_count": 4,
   "id": "8e8a0d89",
   "metadata": {},
   "outputs": [
    {
     "name": "stdout",
     "output_type": "stream",
     "text": [
      "[]\n"
     ]
    }
   ],
   "source": [
    "cur.execute(\"SELECT * FROM results\")\n",
    "ANS= cur.fetchall()\n",
    "print(ANS)"
   ]
  },
  {
   "cell_type": "markdown",
   "id": "f8efd702",
   "metadata": {},
   "source": [
    "# Activity 2.3 Display student names and date of births from the Students table"
   ]
  },
  {
   "cell_type": "code",
   "execution_count": 5,
   "id": "996a8281",
   "metadata": {},
   "outputs": [
    {
     "name": "stdout",
     "output_type": "stream",
     "text": [
      "[('John Smith', '10/11/1996'), ('Mary Johnson', '1/2/2000'), ('Alice Davis', '3/4/2001'), ('Robert Rob', '1/5/1999'), ('Victoria Roberts', '2/10/1998'), ('Bob Williams', '2/11/1999'), ('George Brown', '3/16/2000'), ('Jennifer Wilson', '4/15/2000'), ('Patrick Jones', '10/11/2000'), ('Michael Miller', '9/8/2000'), ('Christina Moore', '10/2/1999'), ('Tom Jackson', '11/2/1999')]\n"
     ]
    }
   ],
   "source": [
    "cur.execute(\"SELECT StdName, DOB FROM students\")\n",
    "ANS= cur.fetchall()\n",
    "print(ANS)"
   ]
  },
  {
   "cell_type": "markdown",
   "id": "5e382dd1",
   "metadata": {},
   "source": [
    "# Activity 2.4 Display all records from the Students table where GPA is greater than or equal to 3.5 from results table."
   ]
  },
  {
   "cell_type": "code",
   "execution_count": 6,
   "id": "d5884352",
   "metadata": {},
   "outputs": [
    {
     "name": "stdout",
     "output_type": "stream",
     "text": [
      "[]\n"
     ]
    }
   ],
   "source": [
    "cur.execute(\"\"\"SELECT * FROM students \n",
    "            WHERE StdID IN (SELECT StdID FROM results WHERE GPA >= 3.5)\"\"\")\n",
    "ANS = cur.fetchall()\n",
    "print(ANS)"
   ]
  },
  {
   "cell_type": "markdown",
   "id": "665ecdf6",
   "metadata": {},
   "source": [
    "# Activity 2.5 Display student name and major from Students where GPA is less than 2.7 from RESULTS table"
   ]
  },
  {
   "cell_type": "code",
   "execution_count": 7,
   "id": "5f64f77a",
   "metadata": {},
   "outputs": [
    {
     "name": "stdout",
     "output_type": "stream",
     "text": [
      "[]\n"
     ]
    }
   ],
   "source": [
    "cur.execute(\"\"\"SELECT * FROM students \n",
    "            WHERE StdID IN (SELECT StdID FROM results WHERE GPA < 2.7)\"\"\")\n",
    "ANS = cur.fetchall()\n",
    "print(ANS)"
   ]
  },
  {
   "cell_type": "code",
   "execution_count": null,
   "id": "55219b86",
   "metadata": {},
   "outputs": [],
   "source": []
  },
  {
   "cell_type": "code",
   "execution_count": null,
   "id": "0922d3d8",
   "metadata": {},
   "outputs": [],
   "source": []
  }
 ],
 "metadata": {
  "kernelspec": {
   "display_name": "Python 3 (ipykernel)",
   "language": "python",
   "name": "python3"
  },
  "language_info": {
   "codemirror_mode": {
    "name": "ipython",
    "version": 3
   },
   "file_extension": ".py",
   "mimetype": "text/x-python",
   "name": "python",
   "nbconvert_exporter": "python",
   "pygments_lexer": "ipython3",
   "version": "3.11.5"
  }
 },
 "nbformat": 4,
 "nbformat_minor": 5
}
